{
 "cells": [
  {
   "cell_type": "code",
   "execution_count": 9,
   "metadata": {},
   "outputs": [],
   "source": [
    "import tifffile\n",
    "import scipy.io\n",
    "import numpy as np\n",
    "from PIL import Image\n",
    "import matplotlib.pyplot as plt\n",
    "from skimage import filters,measure\n",
    "from skimage.filters import threshold_local"
   ]
  },
  {
   "cell_type": "markdown",
   "metadata": {},
   "source": [
    "If you don't have a mask image, we can try to generate the pinhole position with original iamge by stacking them together. Compared to the real mask, this method will have a smalller ROI."
   ]
  },
  {
   "cell_type": "code",
   "execution_count": 10,
   "metadata": {},
   "outputs": [],
   "source": [
    "# Here please specify the path to the folder containing the tiff files. Ideally, they should be the mask files. \n",
    "# but you can use the images which you are going to analysis.\n",
    "path = r'/Volumes/Tianxiao/Spinning_Disk/Mask/'\n",
    "frames = 500"
   ]
  },
  {
   "cell_type": "code",
   "execution_count": 11,
   "metadata": {},
   "outputs": [],
   "source": [
    "def generate_df(root,frame):\n",
    "    image = []\n",
    "    for i in range(1,frame+1):\n",
    "        \n",
    "\n",
    "        mat = root+'Frame_'+str(i)+'/worksapce.mat'\n",
    "        # Load the .mat file\n",
    "        mat_data = scipy.io.loadmat(mat)\n",
    "        \n",
    "        \n",
    "        # Access a specific variable by name\n",
    "        variable_name = 'pixxx'  # Replace with the actual variable name\n",
    "        if variable_name in mat_data:\n",
    "            # image = np.mat_data[variable_name]\n",
    "            specific_data = mat_data[variable_name]\n",
    "        # if i ==1:\n",
    "        #     image = specific_data\n",
    "        # else:\n",
    "        #     image = np.stack([image,specific_data],axis = 0)\n",
    "            image.append(specific_data)\n",
    "    Image = np.array(image)\n",
    "    \n",
    "    return Image"
   ]
  },
  {
   "cell_type": "code",
   "execution_count": 12,
   "metadata": {},
   "outputs": [],
   "source": [
    "def stack_image(image):\n",
    "    mean_image = np.mean(image, axis = 0)\n",
    "    return mean_image"
   ]
  },
  {
   "cell_type": "code",
   "execution_count": 13,
   "metadata": {},
   "outputs": [],
   "source": [
    "def threshold(image,value):\n",
    "    threshold_value=filters.threshold_otsu(image) \n",
    "    #threshold_value = value\n",
    "    print(f'Threshold value is {threshold_value}')\n",
    "    binary_image = image > threshold_value\n",
    "    return binary_image"
   ]
  },
  {
   "cell_type": "code",
   "execution_count": 14,
   "metadata": {},
   "outputs": [],
   "source": [
    "def save_image(image,Type):\n",
    "    if Type == 0:\n",
    "        tifffile.imwrite(path+'origin.tif', image)\n",
    "    elif Type == 1:\n",
    "        imsr = Image.fromarray(image)\n",
    "        imsr.save(path+'binary_mask.tif')\n",
    "    elif Type == 2:\n",
    "        tifffile.imwrite(path+'masked.tif',image)"
   ]
  },
  {
   "cell_type": "code",
   "execution_count": 15,
   "metadata": {},
   "outputs": [
    {
     "name": "stdout",
     "output_type": "stream",
     "text": [
      "Threshold value is 1148.35505859375\n"
     ]
    }
   ],
   "source": [
    "origin_image = generate_df(path,frames)\n",
    "stacked_image = stack_image(origin_image)\n",
    "binary_image = threshold(stacked_image,5000)"
   ]
  },
  {
   "cell_type": "code",
   "execution_count": 16,
   "metadata": {},
   "outputs": [],
   "source": [
    "save_image(binary_image,1)\n",
    "save_image(origin_image,0)"
   ]
  },
  {
   "cell_type": "markdown",
   "metadata": {},
   "source": [
    "So far, you will get the binary image (ROI) and also the timelapse of all the frames you had taken in one tiff file. You are now ready to move to the second code."
   ]
  },
  {
   "cell_type": "markdown",
   "metadata": {},
   "source": []
  }
 ],
 "metadata": {
  "kernelspec": {
   "display_name": "base",
   "language": "python",
   "name": "python3"
  },
  "language_info": {
   "codemirror_mode": {
    "name": "ipython",
    "version": 3
   },
   "file_extension": ".py",
   "mimetype": "text/x-python",
   "name": "python",
   "nbconvert_exporter": "python",
   "pygments_lexer": "ipython3",
   "version": "3.10.14"
  }
 },
 "nbformat": 4,
 "nbformat_minor": 2
}
